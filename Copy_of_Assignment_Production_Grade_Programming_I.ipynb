{
  "nbformat": 4,
  "nbformat_minor": 0,
  "metadata": {
    "kernelspec": {
      "display_name": "Python 3",
      "language": "python",
      "name": "python3"
    },
    "language_info": {
      "codemirror_mode": {
        "name": "ipython",
        "version": 3
      },
      "file_extension": ".py",
      "mimetype": "text/x-python",
      "name": "python",
      "nbconvert_exporter": "python",
      "pygments_lexer": "ipython3",
      "version": "3.7.4"
    },
    "colab": {
      "name": "Copy of Assignment  - Production Grade Programming I.ipynb",
      "provenance": [],
      "collapsed_sections": [],
      "include_colab_link": true
    }
  },
  "cells": [
    {
      "cell_type": "markdown",
      "metadata": {
        "id": "view-in-github",
        "colab_type": "text"
      },
      "source": [
        "<a href=\"https://colab.research.google.com/github/MDAWOODA/Python-Introduction/blob/main/Copy_of_Assignment_Production_Grade_Programming_I.ipynb\" target=\"_parent\"><img src=\"https://colab.research.google.com/assets/colab-badge.svg\" alt=\"Open In Colab\"/></a>"
      ]
    },
    {
      "cell_type": "markdown",
      "metadata": {
        "id": "8WbUJEVzs8Bx"
      },
      "source": [
        "## <u>While doing this assignment only use those concepts which have been taught till now</u>"
      ]
    },
    {
      "cell_type": "markdown",
      "metadata": {
        "id": "77zLnpaNvNSp"
      },
      "source": [
        "# <u> Problem 1</u>\n",
        "\n",
        "### Create a class <code>Cylinder</code> which takes two attributes <code>radius</code> and <code>height</code>.\n",
        "\n",
        "### Create the following methods in this class:\n",
        "\n",
        "* ### method <code>volume()</code> which calculates the volume of the cyinder which is defined as $V  = \\pi r^2 h$\n",
        "\n",
        "* ### method <code>surface_area()</code> which calculates the area of the cyinder which is defined as $S  = 2\\pi r h$. Assume this is an open cylinder\n"
      ]
    },
    {
      "cell_type": "code",
      "metadata": {
        "id": "-cWkCZ5OzX0G"
      },
      "source": [
        "# Write your code below. Take pi as 3.14\n",
        "class Cylinder:\n",
        "\n",
        "  \n",
        "\n",
        "  def volume(self):\n",
        "     return 3.14*self.radius*self.radius*self.height\n",
        "\n",
        "  def surface_area(self):\n",
        "     return 2*3.14*self.radius*self.height       \n",
        "\n",
        "\n",
        "\n",
        "\n",
        "  "
      ],
      "execution_count": null,
      "outputs": []
    },
    {
      "cell_type": "code",
      "metadata": {
        "id": "tgS3mhN-18b_",
        "outputId": "560b797a-e517-4795-847b-b20851ecd5f6",
        "colab": {
          "base_uri": "https://localhost:8080/"
        }
      },
      "source": [
        "# Check for sample inputs\n",
        "\n",
        "c=Cylinder()\n",
        "c.radius=1\n",
        "c.height=2\n",
        "print(c.volume())\n",
        "c.surface_area()\n",
        "\n",
        "\n",
        "\n"
      ],
      "execution_count": null,
      "outputs": [
        {
          "output_type": "stream",
          "name": "stdout",
          "text": [
            "6.28\n"
          ]
        },
        {
          "output_type": "execute_result",
          "data": {
            "text/plain": [
              "12.56"
            ]
          },
          "metadata": {},
          "execution_count": 18
        }
      ]
    },
    {
      "cell_type": "markdown",
      "metadata": {
        "id": "KjPWYK0Rs8By"
      },
      "source": [
        "## <u>Problem 2</u>\n",
        "\n",
        "### You started your own money wallet where your customers can create their accounts and they can either deposit or withdraw money from this wallet.\n",
        "\n",
        "### Write a Python class <code>BankAccount</code> which takes the balance as an attribute. You can initialize the balance with 0 because any new account will have 0 rupees in their wallet. Next write two methods for your class :\n",
        "\n",
        "* #### <code>withdraw()</code> method which takes the amount to be withdrawn as an argument and returns the balance after the withdrawal\n",
        "\n",
        "* #### <code>deposit()</code> method which takes the amount to be deposited as an argument and returns the balance after the deposit.\n",
        "\n",
        "### Keep in mind that if the balance to be withdrawn exceeds the current balance, it should display a message that \"Not enough balance in your account\"\n"
      ]
    },
    {
      "cell_type": "code",
      "metadata": {
        "id": "RxVZTrenzfHC"
      },
      "source": [
        "# Write your BankAccount class below \n",
        "\n",
        "class BankAccount:\n",
        "    \n",
        "    def withdraw(self,amtw):\n",
        "       if (self.balance<0):\n",
        "         return 'Not enough balance'\n",
        "       else:\n",
        "        self.balance=self.balance-amtw\n",
        "     \n",
        "       return self.balance\n",
        " \n",
        "    def deposit(self,amtd):\n",
        "      self.balance=self.balance+amtd\n",
        "      return self.balance\n",
        "\n",
        "  \n"
      ],
      "execution_count": null,
      "outputs": []
    },
    {
      "cell_type": "code",
      "metadata": {
        "id": "N1Yhpkiws8B3",
        "outputId": "33ba476c-303f-464f-d1f7-4da55e7dcb21",
        "colab": {
          "base_uri": "https://localhost:8080/"
        }
      },
      "source": [
        "# Create two instances of this class for two customers\n",
        "ba= BankAccount()\n",
        "ba.balance=0\n",
        "print(ba.deposit(500))\n",
        "print(ba.withdraw(220))\n"
      ],
      "execution_count": null,
      "outputs": [
        {
          "output_type": "stream",
          "name": "stdout",
          "text": [
            "500\n",
            "280\n"
          ]
        }
      ]
    },
    {
      "cell_type": "markdown",
      "metadata": {
        "id": "mSTxPcO3fWeX"
      },
      "source": [
        "### Next add some amount and withdraw some another amount for both the customers."
      ]
    },
    {
      "cell_type": "code",
      "metadata": {
        "id": "KpMdlB5Fs8B8"
      },
      "source": [
        "# Deposit some amount and withdrawing some amount from the two accounts and check if your method works fine\n",
        "\n",
        "\n",
        "\n",
        "\n",
        "\n",
        "\n",
        "\n",
        "\n",
        "\n"
      ],
      "execution_count": null,
      "outputs": []
    },
    {
      "cell_type": "markdown",
      "metadata": {
        "id": "5qd8g8UUs8CM"
      },
      "source": [
        "## <u>Problem 3 </u>\n",
        "\n",
        "### Create a class <code>Time </code> which takes two inputs hours and minutes to instantiate.\n",
        "*  #### Construct a method <code>DisplayTime()</code> which displays the time in AM/PM formats. For example if the input is 14 hours and 45 mins, then this method will print \"The time is 2:45 PM\". If the inputted hours exceeds 23 then print the message \"The input hours should be less than 24\" and if the inputted minutes exceeds 59 then print the message \"The input minutes should be less than 60.\" Also if the input is 12 hours 30 minutes, then the displayed time would be 12:30 PM\n",
        "* #### Construct a method <code>DisplayRatio()</code> which should display the ratio of minutes to hours. For example, (8 hours and  16 mins) should display 2. Use <code>try</code>, <code>except</code> block to account for ZeroDivisionError."
      ]
    },
    {
      "cell_type": "code",
      "metadata": {
        "id": "FBJy9Sq_s8CN"
      },
      "source": [
        "class Time:\n",
        "\n",
        "    def DisplayTime(self,hrs,minute):\n",
        "      if (hrs<12):\n",
        "        return print(f\"Time is {hrs}:{minute}AM\")\n",
        "      elif(hrs>23):\n",
        "        return print(\"hours should less than 24\")\n",
        "      elif(minute>59):\n",
        "        return print(\"minutes should less than 60\")    \n",
        "      elif(hrs==12):\n",
        "        return print(f\"Time is {hrs}:{minute}PM\")\n",
        "      elif(hrs>12 and hrs<24):\n",
        "        return print(f\"Time is {hrs-12}:{minute}PM\")  \n",
        "      \n",
        "      else:\n",
        "        return \"Invalid input\"  \n",
        "\n",
        "    def DisplayRatio(self,hrs,minute):\n",
        "      try:\n",
        "        print(hrs/minute)\n",
        "      except Exception as ex:  \n",
        "        print('error is: ',ex)\n",
        "  "
      ],
      "execution_count": null,
      "outputs": []
    },
    {
      "cell_type": "code",
      "metadata": {
        "id": "zywXa51d6Eev",
        "outputId": "695f7f89-e27d-46ad-f509-094ec469473a",
        "colab": {
          "base_uri": "https://localhost:8080/"
        }
      },
      "source": [
        "# Check for few sample inputs of hours and mins\n",
        "hour_min_list = [(23,45), (34,50), (12,34), (14,67),(19,20), (2,15), (0, 10)]\n",
        "t=Time()\n",
        "hmdict=dict(hour_min_list)\n",
        "# Using a for loop display the corresponding 12 hour time format for the above hour_min_list\n",
        "hours=list(hmdict.keys())\n",
        "minutes=list(hmdict.values())\n",
        "for i in range(0,7):\n",
        "  t.DisplayTime(hours[i],minutes[i])\n",
        "  t.DisplayRatio(hours[i],minutes[i])\n",
        "  print(' ')\n",
        "\n",
        "# Also display the corresponding ratios for the above list\n",
        "\n"
      ],
      "execution_count": null,
      "outputs": [
        {
          "output_type": "stream",
          "name": "stdout",
          "text": [
            "Time is 11:45PM\n",
            "0.5111111111111111\n",
            " \n",
            "hours should less than 24\n",
            "0.68\n",
            " \n",
            "Time is 12:34PM\n",
            "0.35294117647058826\n",
            " \n",
            "minutes should less than 60\n",
            "0.208955223880597\n",
            " \n",
            "Time is 7:20PM\n",
            "0.95\n",
            " \n",
            "Time is 2:15AM\n",
            "0.13333333333333333\n",
            " \n",
            "Time is 0:10AM\n",
            "0.0\n",
            " \n"
          ]
        }
      ]
    },
    {
      "cell_type": "code",
      "metadata": {
        "id": "mgcu1_SAjAqF"
      },
      "source": [
        ""
      ],
      "execution_count": null,
      "outputs": []
    }
  ]
}